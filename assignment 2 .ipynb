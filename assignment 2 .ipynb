{
 "cells": [
  {
   "cell_type": "code",
   "execution_count": null,
   "id": "b9abae07",
   "metadata": {},
   "outputs": [],
   "source": [
    "n=int(input ('nmber of winners'))\n",
    "while n>2 and n<10 : \n",
    "score=list(map(int,n('write the scores ').strip( ).split()))\n",
    "    "
   ]
  },
  {
   "cell_type": "code",
   "execution_count": 1,
   "id": "50cfc577",
   "metadata": {},
   "outputs": [
    {
     "name": "stdout",
     "output_type": "stream",
     "text": [
      "enter the number of participants4\n",
      "enter the number of 4 10 20 30 40\n",
      "max_runner_up 30\n"
     ]
    }
   ],
   "source": [
    "n=int(input('enter the number of participants'))\n",
    "while n<2 or n>10 :\n",
    "    n=int(input('enter the number of participants'))\n",
    "scores= input(f'enter the number of {n} ').strip().split()\n",
    "while len(scores) !=n :\n",
    "       scores= int(input(f'enter the number of {n}'))\n",
    "x=list (map(int,scores))\n",
    "def max_runner_up (x):\n",
    "    bigger=max(x)\n",
    "    while bigger==max(x):\n",
    "        x.remove(bigger)\n",
    "    else :\n",
    "        return max(x)\n",
    "print ('max_runner_up',max_runner_up(x))  \n"
   ]
  },
  {
   "cell_type": "code",
   "execution_count": 8,
   "id": "ad8ed8f9",
   "metadata": {},
   "outputs": [
    {
     "name": "stdout",
     "output_type": "stream",
     "text": [
      "2\n",
      "2\n",
      "2\n",
      "2\n",
      "[[0, 0, 0], [0, 0, 1], [0, 1, 0], [0, 1, 2], [0, 2, 1], [0, 2, 2], [1, 0, 0], [1, 0, 2], [1, 1, 1], [1, 1, 2], [1, 2, 0], [1, 2, 1], [1, 2, 2], [2, 0, 1], [2, 0, 2], [2, 1, 0], [2, 1, 1], [2, 1, 2], [2, 2, 0], [2, 2, 1], [2, 2, 2]]\n"
     ]
    }
   ],
   "source": [
    "x= int(input())\n",
    "y= int(input())\n",
    "z= int(input())\n",
    "a= int(input())\n",
    "result =[[i,j,k]\n",
    "        for i in range (x+1)\n",
    "        for j in range(y+1)\n",
    "        for k in range (z+1)\n",
    "        if (i+j+k)!=a]\n",
    "print (result) "
   ]
  },
  {
   "cell_type": "code",
   "execution_count": 14,
   "id": "47bda49d",
   "metadata": {},
   "outputs": [
    {
     "name": "stdout",
     "output_type": "stream",
     "text": [
      "enter a valid name AHMed\n",
      "ahmED\n"
     ]
    }
   ],
   "source": [
    "n=input('enter a valid name ')\n",
    "def swap(n):\n",
    "    return n.swapcase()\n",
    "print(swap(n))"
   ]
  },
  {
   "cell_type": "code",
   "execution_count": 15,
   "id": "dfd8ca41",
   "metadata": {},
   "outputs": [
    {
     "name": "stdout",
     "output_type": "stream",
     "text": [
      "enter complex number1+2j\n",
      "2.23606797749979\n",
      "1.1071487177940904\n"
     ]
    }
   ],
   "source": [
    "import cmath as m\n",
    "z= complex(input('enter complex number'))\n",
    "print (abs (z))\n",
    "print(m.phase(z))"
   ]
  },
  {
   "cell_type": "code",
   "execution_count": 22,
   "id": "1d51e607",
   "metadata": {},
   "outputs": [
    {
     "name": "stdout",
     "output_type": "stream",
     "text": [
      "enter a date mm/dd/yyyy 4 26 1995\n",
      "WEDNESDAY\n"
     ]
    }
   ],
   "source": [
    "import calendar\n",
    "dick =list(map(int,input('enter a date mm/dd/yyyy ').strip().split()))\n",
    "month,day,year=dick[0],dick[1],dick[2]\n",
    "day=calendar.weekday(year,month,day)\n",
    "if day==0:\n",
    "    print('MONDAY')\n",
    "elif day==1:\n",
    "    print('TUESDAY')\n",
    "elif day==2:\n",
    "    print('WEDNESDAY')\n",
    "elif day==3:\n",
    "    print('THURSDAY')\n",
    "elif day==4:\n",
    "    print ('FRIDAY')\n",
    "elif day==5:\n",
    "    print ('SATURDAY')\n",
    "elif day==6:\n",
    "    print ('SUNDAY')\n"
   ]
  },
  {
   "cell_type": "code",
   "execution_count": null,
   "id": "50d0d116",
   "metadata": {},
   "outputs": [],
   "source": []
  },
  {
   "cell_type": "code",
   "execution_count": null,
   "id": "0ce66a17",
   "metadata": {},
   "outputs": [],
   "source": []
  }
 ],
 "metadata": {
  "kernelspec": {
   "display_name": "Python 3 (ipykernel)",
   "language": "python",
   "name": "python3"
  },
  "language_info": {
   "codemirror_mode": {
    "name": "ipython",
    "version": 3
   },
   "file_extension": ".py",
   "mimetype": "text/x-python",
   "name": "python",
   "nbconvert_exporter": "python",
   "pygments_lexer": "ipython3",
   "version": "3.10.8"
  }
 },
 "nbformat": 4,
 "nbformat_minor": 5
}
